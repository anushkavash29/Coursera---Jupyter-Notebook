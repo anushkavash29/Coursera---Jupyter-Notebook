{
 "cells": [
  {
   "cell_type": "markdown",
   "id": "a0253559-5f14-4b61-99ae-dc8021bccda7",
   "metadata": {},
   "source": [
    "# Data Science Tools and Ecosystem"
   ]
  },
  {
   "cell_type": "markdown",
   "id": "4745f691-e84a-4197-9768-7034c9be11d2",
   "metadata": {},
   "source": [
    "### In this notebook, Data Science Tools and Ecosystem are summarized."
   ]
  },
  {
   "cell_type": "markdown",
   "id": "aaa166c0-8893-4b8c-bfc9-34f1fcffa460",
   "metadata": {},
   "source": [
    "**Objectives:**\n",
    "* List popular languages for Data Science\n",
    "* List commonly used libraries used by Data Scientists\n",
    "* Indicate three development environment open source tools used in Data Science\n",
    "* Introduce and evaluate arithmetic expressions"
   ]
  },
  {
   "cell_type": "markdown",
   "id": "acc8c304-a83c-4f71-baa4-d80479cdbe8a",
   "metadata": {},
   "source": [
    "Some of the popular languages that Data Scientists use are:\n",
    "1. Python\n",
    "2. SQL\n",
    "3. R\n",
    "4. JavaScript"
   ]
  },
  {
   "cell_type": "markdown",
   "id": "9d94b73d-5934-4523-9551-57aa49651274",
   "metadata": {},
   "source": [
    "Some of the commonly used libraries used by Data Scientists include:\n",
    "1. TensorFlow\n",
    "2. Pandas\n",
    "3. PyTorch"
   ]
  },
  {
   "cell_type": "markdown",
   "id": "fdcb966c-30ac-46f4-a56f-4d4a177c0c58",
   "metadata": {},
   "source": [
    "| Data Science Tools |\n",
    "|--------------------|\n",
    "| Jupyter Notebooks |\n",
    "| RStudio |\n",
    "| Zeppelin Notebooks |"
   ]
  },
  {
   "cell_type": "markdown",
   "id": "ed28106a-dbc9-4407-aa0f-b8364619d50d",
   "metadata": {
    "tags": []
   },
   "source": [
    "### Below are a few examples of evaluating arithmetic expressions in Python"
   ]
  },
  {
   "cell_type": "code",
   "execution_count": 4,
   "id": "42e07468-e577-4214-9722-8f4e1f32e5a5",
   "metadata": {},
   "outputs": [
    {
     "data": {
      "text/plain": [
       "17"
      ]
     },
     "execution_count": 4,
     "metadata": {},
     "output_type": "execute_result"
    }
   ],
   "source": [
    "#This is a simple arithmetic expression to mutiply then add integers\n",
    "(3*4)+5"
   ]
  },
  {
   "cell_type": "code",
   "execution_count": 12,
   "id": "700dee5e-41e7-427b-a435-03c021cd4849",
   "metadata": {},
   "outputs": [
    {
     "name": "stdout",
     "output_type": "stream",
     "text": [
      "Hours:\n",
      "3.3333333333333335\n"
     ]
    }
   ],
   "source": [
    "#This will convert 200 minutes to hours by diving by 60\n",
    "time_minutes = 200\n",
    "hours = 200/60\n",
    "string = \"Hours:\"\n",
    "print(string)\n",
    "print(hours)\n"
   ]
  },
  {
   "cell_type": "markdown",
   "id": "8da5fd90-757b-4064-849b-1050f5b97c51",
   "metadata": {},
   "source": [
    "## Author\n",
    "Anushka Vashisht"
   ]
  }
 ],
 "metadata": {
  "kernelspec": {
   "display_name": "Python",
   "language": "python",
   "name": "conda-env-python-py"
  },
  "language_info": {
   "codemirror_mode": {
    "name": "ipython",
    "version": 3
   },
   "file_extension": ".py",
   "mimetype": "text/x-python",
   "name": "python",
   "nbconvert_exporter": "python",
   "pygments_lexer": "ipython3",
   "version": "3.7.12"
  },
  "toc-autonumbering": true,
  "toc-showcode": true,
  "toc-showtags": true
 },
 "nbformat": 4,
 "nbformat_minor": 5
}
